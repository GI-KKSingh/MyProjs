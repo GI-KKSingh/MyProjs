{
  "nbformat": 4,
  "nbformat_minor": 0,
  "metadata": {
    "colab": {
      "name": "sum.ipynb",
      "version": "0.3.2",
      "provenance": [],
      "include_colab_link": true
    },
    "kernelspec": {
      "name": "python3",
      "display_name": "Python 3"
    }
  },
  "cells": [
    {
      "cell_type": "markdown",
      "metadata": {
        "id": "view-in-github",
        "colab_type": "text"
      },
      "source": [
        "<a href=\"https://colab.research.google.com/github/Krish1506/MyProjs/blob/master/sum.ipynb\" target=\"_parent\"><img src=\"https://colab.research.google.com/assets/colab-badge.svg\" alt=\"Open In Colab\"/></a>"
      ]
    },
    {
      "cell_type": "markdown",
      "metadata": {
        "id": "qPMCCbF2vJsd",
        "colab_type": "text"
      },
      "source": [
        "This a program getting two integers and printing the **sum**"
      ]
    },
    {
      "cell_type": "code",
      "metadata": {
        "id": "d1M8Rdw4uzTB",
        "colab_type": "code",
        "colab": {
          "base_uri": "https://localhost:8080/",
          "height": 34
        },
        "outputId": "45b6483b-472c-43fe-fa3e-c5b405d127fc"
      },
      "source": [
        "a=20\n",
        "b=25\n",
        "c=a+b\n",
        "print('The sum is ',c)"
      ],
      "execution_count": 1,
      "outputs": [
        {
          "output_type": "stream",
          "text": [
            "The sum is  45\n"
          ],
          "name": "stdout"
        }
      ]
    },
    {
      "cell_type": "markdown",
      "metadata": {
        "id": "hcS9ifScwrYH",
        "colab_type": "text"
      },
      "source": [
        "# This program is used to check an input integer as is it is prime or not"
      ]
    },
    {
      "cell_type": "code",
      "metadata": {
        "id": "De9syebUvjKT",
        "colab_type": "code",
        "colab": {
          "base_uri": "https://localhost:8080/",
          "height": 51
        },
        "outputId": "bce6128c-b41e-459b-d62b-0bcf5b97d460"
      },
      "source": [
        "def prime(num):\n",
        "  pyn=True\n",
        "  for i in range (2,num//2+1):\n",
        "    if num%i ==0 :\n",
        "      pyn=False\n",
        "  return pyn\n",
        "#Entering an integer and printing it as prime\n",
        "num=int(input(\"Enter any integer\"))\n",
        "if prime(num)==True:\n",
        "  print('Number is prime')\n",
        "else:\n",
        "  print('Number is not prime')"
      ],
      "execution_count": 2,
      "outputs": [
        {
          "output_type": "stream",
          "text": [
            "Enter any integer67\n",
            "Number is prime\n"
          ],
          "name": "stdout"
        }
      ]
    },
    {
      "cell_type": "code",
      "metadata": {
        "id": "35CrqkqXxCUI",
        "colab_type": "code",
        "colab": {}
      },
      "source": [
        ""
      ],
      "execution_count": 0,
      "outputs": []
    }
  ]
}